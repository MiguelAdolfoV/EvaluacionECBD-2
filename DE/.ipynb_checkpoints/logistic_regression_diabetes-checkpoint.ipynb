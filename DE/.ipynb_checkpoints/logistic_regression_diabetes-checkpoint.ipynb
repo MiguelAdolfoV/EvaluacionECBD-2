{
 "cells": [
  {
   "cell_type": "markdown",
   "id": "2c156708",
   "metadata": {},
   "source": [
    "# Modelo de Regresión Logística para Diagnóstico de Diabetes"
   ]
  },
  {
   "cell_type": "markdown",
   "id": "8d66f091",
   "metadata": {},
   "source": [
    "## Introducción\n",
    "En este notebook se utiliza un modelo de Regresión Logística para predecir la presencia de diabetes en base a un conjunto de datos médicos. Este modelo se seleccionó como alternativa al modelo de Random Forest, dado que es más interpretable y eficiente para problemas de clasificación binaria."
   ]
  },
  {
   "cell_type": "markdown",
   "id": "6920b844",
   "metadata": {},
   "source": [
    "## Justificación del Algoritmo\n",
    "La Regresión Logística es un modelo de clasificación ampliamente utilizado debido a su simplicidad, interpretabilidad y eficacia. En este caso, es particularmente útil porque:\n",
    "- Permite entender cómo cada característica afecta la probabilidad de diagnóstico.\n",
    "- Es eficiente para conjuntos de datos moderadamente grandes como este."
   ]
  },
  {
   "cell_type": "markdown",
   "id": "18932250",
   "metadata": {},
   "source": [
    "## Carga y Preprocesamiento de Datos\n",
    "En esta sección, se cargan los datos, se separan las características y la variable objetivo, y se dividen en conjuntos de entrenamiento y prueba."
   ]
  },
  {
   "cell_type": "code",
   "execution_count": null,
   "id": "80957ec6",
   "metadata": {},
   "outputs": [],
   "source": [
    "\n",
    "# Importar bibliotecas necesarias\n",
    "import pandas as pd\n",
    "from sklearn.model_selection import train_test_split\n",
    "\n",
    "# Cargar el conjunto de datos\n",
    "data = pd.read_csv('diabetes_indiana.csv')\n",
    "\n",
    "# Separar características y variable objetivo\n",
    "X = data.drop(columns=['Outcome'])\n",
    "y = data['Outcome']\n",
    "\n",
    "# Dividir los datos en entrenamiento y prueba\n",
    "X_train, X_test, y_train, y_test = train_test_split(X, y, test_size=0.2, random_state=42)\n"
   ]
  },
  {
   "cell_type": "markdown",
   "id": "a9dd072f",
   "metadata": {},
   "source": [
    "## Diseño del Modelo\n",
    "Se entrena un modelo de Regresión Logística con parámetros predeterminados, utilizando el conjunto de entrenamiento dividido previamente. El modelo predice la probabilidad de cada clase (diabetes o no)."
   ]
  },
  {
   "cell_type": "code",
   "execution_count": null,
   "id": "f8efce18",
   "metadata": {},
   "outputs": [],
   "source": [
    "\n",
    "from sklearn.linear_model import LogisticRegression\n",
    "\n",
    "# Entrenar el modelo de Regresión Logística\n",
    "logistic_model = LogisticRegression(max_iter=1000, random_state=42)\n",
    "logistic_model.fit(X_train, y_train)\n",
    "\n",
    "# Realizar predicciones\n",
    "y_pred = logistic_model.predict(X_test)\n",
    "y_prob = logistic_model.predict_proba(X_test)[:, 1]\n"
   ]
  },
  {
   "cell_type": "markdown",
   "id": "7f07acd1",
   "metadata": {},
   "source": [
    "## Evaluación del Modelo\n",
    "Se evalúa el desempeño del modelo utilizando métricas como precisión global, reporte de clasificación y curva ROC para medir la discriminación entre las clases."
   ]
  },
  {
   "cell_type": "code",
   "execution_count": null,
   "id": "d564e44b",
   "metadata": {},
   "outputs": [],
   "source": [
    "\n",
    "from sklearn.metrics import classification_report, accuracy_score, roc_curve, auc\n",
    "\n",
    "# Evaluar el modelo\n",
    "accuracy = accuracy_score(y_test, y_pred)\n",
    "classification_rep = classification_report(y_test, y_pred)\n",
    "fpr, tpr, _ = roc_curve(y_test, y_prob)\n",
    "roc_auc = auc(fpr, tpr)\n",
    "\n",
    "print(f\"Precisión del modelo: {accuracy:.2f}\")\n",
    "print(\"Reporte de Clasificación:\")\n",
    "print(classification_rep)\n",
    "print(f\"AUC-ROC: {roc_auc:.2f}\")\n"
   ]
  },
  {
   "cell_type": "markdown",
   "id": "d4ebfa4b",
   "metadata": {},
   "source": [
    "## Gráfica Personalizada e Interpretación de Resultados\n",
    "Se genera la curva ROC para visualizar la capacidad del modelo para discriminar entre las clases (diabetes y no diabetes)."
   ]
  },
  {
   "cell_type": "code",
   "execution_count": null,
   "id": "f64acb70",
   "metadata": {},
   "outputs": [],
   "source": [
    "\n",
    "import matplotlib.pyplot as plt\n",
    "\n",
    "# Graficar la curva ROC\n",
    "plt.figure(figsize=(8, 6))\n",
    "plt.plot(fpr, tpr, label=f'ROC curve (AUC = {roc_auc:.2f})')\n",
    "plt.plot([0, 1], [0, 1], linestyle='--', color='gray', label='Random guess')\n",
    "plt.title('Curva ROC para el Modelo de Regresión Logística')\n",
    "plt.xlabel('Tasa de Falsos Positivos (FPR)')\n",
    "plt.ylabel('Tasa de Verdaderos Positivos (TPR)')\n",
    "plt.legend(loc='lower right')\n",
    "plt.grid(True)\n",
    "plt.show()\n"
   ]
  },
  {
   "cell_type": "markdown",
   "id": "afdc14d0",
   "metadata": {},
   "source": [
    "## Enlace hacia el Repositorio\n",
    "El modelo completo y el código fuente se encuentran disponibles en el siguiente repositorio:\n",
    "[Enlace al repositorio]"
   ]
  }
 ],
 "metadata": {},
 "nbformat": 4,
 "nbformat_minor": 5
}
