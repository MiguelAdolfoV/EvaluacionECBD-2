{
 "cells": [
  {
   "cell_type": "markdown",
   "id": "1f32d8c0",
   "metadata": {},
   "source": [
    "# Modelo de Regresión Lineal"
   ]
  },
  {
   "cell_type": "markdown",
   "id": "50d62daf",
   "metadata": {},
   "source": [
    "## Carga y Visualización del Dataset"
   ]
  },
  {
   "cell_type": "code",
   "execution_count": 2,
   "id": "1fe1256f",
   "metadata": {},
   "outputs": [
    {
     "data": {
      "text/html": [
       "<div>\n",
       "<style scoped>\n",
       "    .dataframe tbody tr th:only-of-type {\n",
       "        vertical-align: middle;\n",
       "    }\n",
       "\n",
       "    .dataframe tbody tr th {\n",
       "        vertical-align: top;\n",
       "    }\n",
       "\n",
       "    .dataframe thead th {\n",
       "        text-align: right;\n",
       "    }\n",
       "</style>\n",
       "<table border=\"1\" class=\"dataframe\">\n",
       "  <thead>\n",
       "    <tr style=\"text-align: right;\">\n",
       "      <th></th>\n",
       "      <th>Unnamed: 0</th>\n",
       "      <th>equipos</th>\n",
       "      <th>bateos</th>\n",
       "      <th>runs</th>\n",
       "    </tr>\n",
       "  </thead>\n",
       "  <tbody>\n",
       "    <tr>\n",
       "      <th>0</th>\n",
       "      <td>0</td>\n",
       "      <td>Texas</td>\n",
       "      <td>5659</td>\n",
       "      <td>855</td>\n",
       "    </tr>\n",
       "    <tr>\n",
       "      <th>1</th>\n",
       "      <td>1</td>\n",
       "      <td>Boston</td>\n",
       "      <td>5710</td>\n",
       "      <td>875</td>\n",
       "    </tr>\n",
       "    <tr>\n",
       "      <th>2</th>\n",
       "      <td>2</td>\n",
       "      <td>Detroit</td>\n",
       "      <td>5563</td>\n",
       "      <td>787</td>\n",
       "    </tr>\n",
       "    <tr>\n",
       "      <th>3</th>\n",
       "      <td>3</td>\n",
       "      <td>Kansas</td>\n",
       "      <td>5672</td>\n",
       "      <td>730</td>\n",
       "    </tr>\n",
       "    <tr>\n",
       "      <th>4</th>\n",
       "      <td>4</td>\n",
       "      <td>St.</td>\n",
       "      <td>5532</td>\n",
       "      <td>762</td>\n",
       "    </tr>\n",
       "  </tbody>\n",
       "</table>\n",
       "</div>"
      ],
      "text/plain": [
       "   Unnamed: 0  equipos  bateos  runs\n",
       "0           0    Texas    5659   855\n",
       "1           1   Boston    5710   875\n",
       "2           2  Detroit    5563   787\n",
       "3           3   Kansas    5672   730\n",
       "4           4      St.    5532   762"
      ]
     },
     "execution_count": 2,
     "metadata": {},
     "output_type": "execute_result"
    }
   ],
   "source": [
    "\n",
    "# Importar librerías necesarias\n",
    "import pandas as pd\n",
    "import numpy as np\n",
    "import matplotlib.pyplot as plt\n",
    "from sklearn.model_selection import train_test_split\n",
    "from sklearn.preprocessing import StandardScaler, OneHotEncoder\n",
    "from sklearn.compose import ColumnTransformer\n",
    "from sklearn.pipeline import Pipeline\n",
    "from sklearn.linear_model import LinearRegression\n",
    "from sklearn.metrics import mean_squared_error, r2_score\n",
    "\n",
    "# Cargar el dataset\n",
    "file_path = 'beisbol.csv'\n",
    "datos = pd.read_csv(file_path)\n",
    "\n",
    "# Visualizar las primeras filas\n",
    "datos.head()\n",
    "    "
   ]
  },
  {
   "cell_type": "markdown",
   "id": "0f3e9cc3",
   "metadata": {},
   "source": [
    "## Análisis de la Relación Lineal"
   ]
  },
  {
   "cell_type": "code",
   "execution_count": 3,
   "id": "1193efd1",
   "metadata": {},
   "outputs": [
    {
     "data": {
      "image/png": "[encoded data removed]",
      "text/plain": [
       "<Figure size 640x480 with 1 Axes>"
      ]
     },
     "metadata": {},
     "output_type": "display_data"
    }
   ],
   "source": [
    "\n",
    "# Relación entre bateos y runs\n",
    "plt.scatter(datos[\"bateos\"], datos[\"runs\"])\n",
    "plt.xlabel(\"Bateos\")\n",
    "plt.ylabel(\"Runs\")\n",
    "plt.title(\"Relación entre Bateos y Runs\")\n",
    "plt.show()\n",
    "    "
   ]
  },
  {
   "cell_type": "markdown",
   "id": "e9cfd615",
   "metadata": {},
   "source": [
    "## Filtrado de Valores Atípicos"
   ]
  },
  {
   "cell_type": "code",
   "execution_count": 4,
   "id": "f6c0ef5f",
   "metadata": {},
   "outputs": [
    {
     "data": {
      "text/html": [
       "<div>\n",
       "<style scoped>\n",
       "    .dataframe tbody tr th:only-of-type {\n",
       "        vertical-align: middle;\n",
       "    }\n",
       "\n",
       "    .dataframe tbody tr th {\n",
       "        vertical-align: top;\n",
       "    }\n",
       "\n",
       "    .dataframe thead th {\n",
       "        text-align: right;\n",
       "    }\n",
       "</style>\n",
       "<table border=\"1\" class=\"dataframe\">\n",
       "  <thead>\n",
       "    <tr style=\"text-align: right;\">\n",
       "      <th></th>\n",
       "      <th>Unnamed: 0</th>\n",
       "      <th>equipos</th>\n",
       "      <th>bateos</th>\n",
       "      <th>runs</th>\n",
       "    </tr>\n",
       "  </thead>\n",
       "  <tbody>\n",
       "    <tr>\n",
       "      <th>0</th>\n",
       "      <td>0</td>\n",
       "      <td>Texas</td>\n",
       "      <td>5659</td>\n",
       "      <td>855</td>\n",
       "    </tr>\n",
       "    <tr>\n",
       "      <th>1</th>\n",
       "      <td>1</td>\n",
       "      <td>Boston</td>\n",
       "      <td>5710</td>\n",
       "      <td>875</td>\n",
       "    </tr>\n",
       "    <tr>\n",
       "      <th>2</th>\n",
       "      <td>2</td>\n",
       "      <td>Detroit</td>\n",
       "      <td>5563</td>\n",
       "      <td>787</td>\n",
       "    </tr>\n",
       "    <tr>\n",
       "      <th>3</th>\n",
       "      <td>3</td>\n",
       "      <td>Kansas</td>\n",
       "      <td>5672</td>\n",
       "      <td>730</td>\n",
       "    </tr>\n",
       "    <tr>\n",
       "      <th>4</th>\n",
       "      <td>4</td>\n",
       "      <td>St.</td>\n",
       "      <td>5532</td>\n",
       "      <td>762</td>\n",
       "    </tr>\n",
       "  </tbody>\n",
       "</table>\n",
       "</div>"
      ],
      "text/plain": [
       "   Unnamed: 0  equipos  bateos  runs\n",
       "0           0    Texas    5659   855\n",
       "1           1   Boston    5710   875\n",
       "2           2  Detroit    5563   787\n",
       "3           3   Kansas    5672   730\n",
       "4           4      St.    5532   762"
      ]
     },
     "execution_count": 4,
     "metadata": {},
     "output_type": "execute_result"
    }
   ],
   "source": [
    "\n",
    "# Identificar y eliminar valores atípicos\n",
    "Q1_bateos = datos[\"bateos\"].quantile(0.25)\n",
    "Q3_bateos = datos[\"bateos\"].quantile(0.75)\n",
    "IQR_bateos = Q3_bateos - Q1_bateos\n",
    "\n",
    "Q1_runs = datos[\"runs\"].quantile(0.25)\n",
    "Q3_runs = datos[\"runs\"].quantile(0.75)\n",
    "IQR_runs = Q3_runs - Q1_runs\n",
    "\n",
    "filtered_data = datos[\n",
    "    ~(\n",
    "        ((datos[\"bateos\"] < (Q1_bateos - 1.5 * IQR_bateos)) | (datos[\"bateos\"] > (Q3_bateos + 1.5 * IQR_bateos)))\n",
    "        | ((datos[\"runs\"] < (Q1_runs - 1.5 * IQR_runs)) | (datos[\"runs\"] > (Q3_runs + 1.5 * IQR_runs)))\n",
    "    )\n",
    "]\n",
    "\n",
    "# Visualizar los datos filtrados\n",
    "filtered_data.head()\n",
    "    "
   ]
  },
  {
   "cell_type": "markdown",
   "id": "a766fccc",
   "metadata": {},
   "source": [
    "## Modelo de Regresión Lineal con Pipeline"
   ]
  },
  {
   "cell_type": "code",
   "execution_count": 5,
   "id": "049d9575",
   "metadata": {},
   "outputs": [
    {
     "name": "stdout",
     "output_type": "stream",
     "text": [
      "Mean Squared Error (MSE): 7973.666667125901\n",
      "R^2 Score: -1.3180012275633288\n"
     ]
    },
    {
     "name": "stderr",
     "output_type": "stream",
     "text": [
      "c:\\skul\\base\\env\\lib\\site-packages\\sklearn\\preprocessing\\_encoders.py:228: UserWarning: Found unknown categories in columns [0] during transform. These unknown categories will be encoded as all zeros\n",
      "  warnings.warn(\n"
     ]
    }
   ],
   "source": [
    "\n",
    "# Separar variables predictoras y objetivo\n",
    "X_filtered = filtered_data[[\"equipos\", \"bateos\"]]\n",
    "y_filtered = filtered_data[\"runs\"]\n",
    "\n",
    "# Configurar preprocesador y pipeline\n",
    "preprocessor = ColumnTransformer(\n",
    "    transformers=[\n",
    "        (\"num\", StandardScaler(), [\"bateos\"]),\n",
    "        (\"cat\", OneHotEncoder(drop=\"first\", handle_unknown=\"ignore\"), [\"equipos\"]),\n",
    "    ]\n",
    ")\n",
    "\n",
    "pipeline = Pipeline(\n",
    "    steps=[\n",
    "        (\"preprocessor\", preprocessor),\n",
    "        (\"regressor\", LinearRegression())\n",
    "    ]\n",
    ")\n",
    "\n",
    "# Dividir los datos en conjuntos de entrenamiento y prueba\n",
    "X_train_f, X_test_f, y_train_f, y_test_f = train_test_split(X_filtered, y_filtered, test_size=0.2, random_state=42)\n",
    "\n",
    "# Entrenar el modelo\n",
    "pipeline.fit(X_train_f, y_train_f)\n",
    "\n",
    "# Evaluar el modelo\n",
    "y_pred_f = pipeline.predict(X_test_f)\n",
    "mse_f = mean_squared_error(y_test_f, y_pred_f)\n",
    "r2_f = r2_score(y_test_f, y_pred_f)\n",
    "\n",
    "print(f\"Mean Squared Error (MSE): {mse_f}\")\n",
    "print(f\"R^2 Score: {r2_f}\")\n",
    "    "
   ]
  },
  {
   "cell_type": "markdown",
   "id": "753f3cc0-ad06-42bf-8b66-6a15cc8b5eb0",
   "metadata": {},
   "source": [
    "## Grafica personalizada"
   ]
  },
  {
   "cell_type": "code",
   "execution_count": 7,
   "id": "22be23d7-e4df-4f7f-81bd-4e3cae1012e3",
   "metadata": {},
   "outputs": [
    {
     "data": {
      "image/png": "[encoded data removed]",
      "text/plain": [
       "<Figure size 640x480 with 1 Axes>"
      ]
     },
     "metadata": {},
     "output_type": "display_data"
    }
   ],
   "source": [
    "import matplotlib.pyplot as plt\n",
    "\n",
    "# Gráfica de valores reales vs predicciones\n",
    "plt.scatter(y_test_f, y_pred_f, alpha=0.7, label=\"Datos\")\n",
    "plt.plot(\n",
    "    [y_test_f.min(), y_test_f.max()], \n",
    "    [y_test_f.min(), y_test_f.max()], \n",
    "    'k--', lw=2, label=\"Línea Ideal\"\n",
    ")\n",
    "plt.xlabel(\"Valores Reales\")\n",
    "plt.ylabel(\"Predicciones\")\n",
    "plt.title(\"Regresión Lineal: Predicciones vs Valores Reales\")\n",
    "plt.legend()\n",
    "plt.show()\n"
   ]
  },
  {
   "cell_type": "code",
   "execution_count": null,
   "id": "76d1f0e7-0188-4873-9c21-f4760a644282",
   "metadata": {},
   "outputs": [],
   "source": []
  }
 ],
 "metadata": {
  "kernelspec": {
   "display_name": "Python 3 (ipykernel)",
   "language": "python",
   "name": "python3"
  },
  "language_info": {
   "codemirror_mode": {
    "name": "ipython",
    "version": 3
   },
   "file_extension": ".py",
   "mimetype": "text/x-python",
   "name": "python",
   "nbconvert_exporter": "python",
   "pygments_lexer": "ipython3",
   "version": "3.8.0"
  }
 },
 "nbformat": 4,
 "nbformat_minor": 5
}
