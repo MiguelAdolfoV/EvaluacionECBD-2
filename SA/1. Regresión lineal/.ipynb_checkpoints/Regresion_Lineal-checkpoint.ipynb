{
 "cells": [
  {
   "cell_type": "markdown",
   "id": "1f32d8c0",
   "metadata": {},
   "source": [
    "# Optimización de Modelo de Regresión Lineal"
   ]
  },
  {
   "cell_type": "markdown",
   "id": "50d62daf",
   "metadata": {},
   "source": [
    "## Carga y Visualización del Dataset"
   ]
  },
  {
   "cell_type": "code",
   "execution_count": null,
   "id": "1fe1256f",
   "metadata": {},
   "outputs": [],
   "source": [
    "\n",
    "# Importar librerías necesarias\n",
    "import pandas as pd\n",
    "import numpy as np\n",
    "import matplotlib.pyplot as plt\n",
    "from sklearn.model_selection import train_test_split\n",
    "from sklearn.preprocessing import StandardScaler, OneHotEncoder\n",
    "from sklearn.compose import ColumnTransformer\n",
    "from sklearn.pipeline import Pipeline\n",
    "from sklearn.linear_model import LinearRegression\n",
    "from sklearn.metrics import mean_squared_error, r2_score\n",
    "\n",
    "# Cargar el dataset\n",
    "file_path = 'beisbol.csv'\n",
    "datos = pd.read_csv(file_path)\n",
    "\n",
    "# Visualizar las primeras filas\n",
    "datos.head()\n",
    "    "
   ]
  },
  {
   "cell_type": "markdown",
   "id": "0f3e9cc3",
   "metadata": {},
   "source": [
    "## Análisis de la Relación Lineal"
   ]
  },
  {
   "cell_type": "code",
   "execution_count": null,
   "id": "1193efd1",
   "metadata": {},
   "outputs": [],
   "source": [
    "\n",
    "# Relación entre bateos y runs\n",
    "plt.scatter(datos[\"bateos\"], datos[\"runs\"])\n",
    "plt.xlabel(\"Bateos\")\n",
    "plt.ylabel(\"Runs\")\n",
    "plt.title(\"Relación entre Bateos y Runs\")\n",
    "plt.show()\n",
    "    "
   ]
  },
  {
   "cell_type": "markdown",
   "id": "e9cfd615",
   "metadata": {},
   "source": [
    "## Filtrado de Valores Atípicos"
   ]
  },
  {
   "cell_type": "code",
   "execution_count": null,
   "id": "f6c0ef5f",
   "metadata": {},
   "outputs": [],
   "source": [
    "\n",
    "# Identificar y eliminar valores atípicos\n",
    "Q1_bateos = datos[\"bateos\"].quantile(0.25)\n",
    "Q3_bateos = datos[\"bateos\"].quantile(0.75)\n",
    "IQR_bateos = Q3_bateos - Q1_bateos\n",
    "\n",
    "Q1_runs = datos[\"runs\"].quantile(0.25)\n",
    "Q3_runs = datos[\"runs\"].quantile(0.75)\n",
    "IQR_runs = Q3_runs - Q1_runs\n",
    "\n",
    "filtered_data = datos[\n",
    "    ~(\n",
    "        ((datos[\"bateos\"] < (Q1_bateos - 1.5 * IQR_bateos)) | (datos[\"bateos\"] > (Q3_bateos + 1.5 * IQR_bateos)))\n",
    "        | ((datos[\"runs\"] < (Q1_runs - 1.5 * IQR_runs)) | (datos[\"runs\"] > (Q3_runs + 1.5 * IQR_runs)))\n",
    "    )\n",
    "]\n",
    "\n",
    "# Visualizar los datos filtrados\n",
    "filtered_data.head()\n",
    "    "
   ]
  },
  {
   "cell_type": "markdown",
   "id": "a766fccc",
   "metadata": {},
   "source": [
    "## Modelo de Regresión Lineal con Pipeline"
   ]
  },
  {
   "cell_type": "code",
   "execution_count": null,
   "id": "049d9575",
   "metadata": {},
   "outputs": [],
   "source": [
    "\n",
    "# Separar variables predictoras y objetivo\n",
    "X_filtered = filtered_data[[\"equipos\", \"bateos\"]]\n",
    "y_filtered = filtered_data[\"runs\"]\n",
    "\n",
    "# Configurar preprocesador y pipeline\n",
    "preprocessor = ColumnTransformer(\n",
    "    transformers=[\n",
    "        (\"num\", StandardScaler(), [\"bateos\"]),\n",
    "        (\"cat\", OneHotEncoder(drop=\"first\", handle_unknown=\"ignore\"), [\"equipos\"]),\n",
    "    ]\n",
    ")\n",
    "\n",
    "pipeline = Pipeline(\n",
    "    steps=[\n",
    "        (\"preprocessor\", preprocessor),\n",
    "        (\"regressor\", LinearRegression())\n",
    "    ]\n",
    ")\n",
    "\n",
    "# Dividir los datos en conjuntos de entrenamiento y prueba\n",
    "X_train_f, X_test_f, y_train_f, y_test_f = train_test_split(X_filtered, y_filtered, test_size=0.2, random_state=42)\n",
    "\n",
    "# Entrenar el modelo\n",
    "pipeline.fit(X_train_f, y_train_f)\n",
    "\n",
    "# Evaluar el modelo\n",
    "y_pred_f = pipeline.predict(X_test_f)\n",
    "mse_f = mean_squared_error(y_test_f, y_pred_f)\n",
    "r2_f = r2_score(y_test_f, y_pred_f)\n",
    "\n",
    "print(f\"Mean Squared Error (MSE): {mse_f}\")\n",
    "print(f\"R^2 Score: {r2_f}\")\n",
    "    "
   ]
  },
  {
   "cell_type": "markdown",
   "id": "05d83b62",
   "metadata": {},
   "source": [
    "## Conclusiones y Próximos Pasos"
   ]
  },
  {
   "cell_type": "markdown",
   "id": "028004e8",
   "metadata": {},
   "source": [
    "\n",
    "El modelo de regresión lineal presenta limitaciones significativas en su capacidad para predecir `runs` basándose únicamente en las variables disponibles (`bateos` y `equipos`).\n",
    "\n",
    "### Resultados\n",
    "- **Mean Squared Error (MSE):** Valor obtenido del modelo.\n",
    "- **R² Score:** Coeficiente de determinación, indicando el ajuste del modelo.\n",
    "\n",
    "### Próximos Pasos\n",
    "1. Explorar la adición de más variables predictoras si están disponibles.\n",
    "2. Probar enfoques de transformación de características para mejorar la linealidad de la relación entre variables.\n",
    "3. Validar la necesidad de modelos más complejos si la regresión lineal no puede capturar la dinámica de los datos.\n"
   ]
  }
 ],
 "metadata": {},
 "nbformat": 4,
 "nbformat_minor": 5
}
